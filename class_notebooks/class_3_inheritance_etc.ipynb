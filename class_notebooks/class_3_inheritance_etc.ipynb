{
 "cells": [
  {
   "cell_type": "markdown",
   "metadata": {},
   "source": [
    "# Class 3: Core Object-Oriented Concepts"
   ]
  },
  {
   "cell_type": "markdown",
   "metadata": {},
   "source": [
    "## Encapsulation\n",
    "\n",
    "A class encapsulates a concept in its entirety. Classes own and control all the member variables within them. If you want access to those variables, or want to change those variables, you should do so through class functions.\n",
    "This concept allows you to govern the state of a class at any given time, so that things do not change out from underneath you unexpectedly.\n",
    "\n",
    "This can be thought of as a response to the 'open sandbox' paradigm of earlier languages-- C++, SAS, etc introduced a generation of programmers to the dilemna of how to ensure a global variable (ie: one that can change out from under a piece of code depending on the last thing that interacted with it) can be both accessible (it can be modified) AND protected (nothing that you weren't expecting will overwrite it)\n"
   ]
  },
  {
   "cell_type": "code",
   "execution_count": null,
   "metadata": {
    "collapsed": true
   },
   "outputs": [],
   "source": [
    "class Dog():\n",
    "    def __init__(self):\n",
    "\n",
    "        self.pet_name = \"Biscuit\"\n",
    "        self._favorite_food = \"Treats\" #underscore prefixed class variables are 'honor-system' private\n",
    "        self.__greatest_fear = \"a mirror with a strange dog in it\" #double underscore is private + namespace-shifted!\n",
    "\n",
    "        \n",
    "class ChessKing()\n",
    "        '''\n",
    "        'Encapsulation' should be thought of first and foremost in terms of public vs private variables.\n",
    "        PUBLIC: Things that we want 'other' things (ie: other classes, users, code...) to interact with\n",
    "        PRIVATE: Things that are important to the clss, but we do NOT want others interacting with it directly.\n",
    "        '''\n",
    "    def __init__(self, initial_position: List(int), color: str):\n",
    "        self._color = color #once we initially set this, we don't want to touch it again!\n",
    "        self._position = initial_position #Position will be modified frequently, but we need to make sure it follows some rules \n",
    "        self.__legal_moves = self._define_legal_moves\n",
    "    \n",
    "    def _define_legal_moves(x, y):\n",
    "        assert x >= 0 && y >= 0 #can't go off one side of the board\n",
    "        assert x < 8 && y < 8 #can't go off the other side of the board\n",
    "        \n",
    "        delta_x =  x - self.position[0]\n",
    "        assert delta_x == 1 or delta_x == 0 or delta_x == -1\n",
    "        \n",
    "        delta_y = y - self.position[1]\n",
    "        assert delta_y == 1 or delta_y == 0 or delta_y == -1\n",
    "        \n",
    "        return True\n",
    "    \n",
    "    def make_move(self, x, y):\n",
    "        try self._define_legal_moves(x, y)  \n",
    "        except e:\n",
    "            print(\"You cannot move a King from {} to {}\".format(self._position, [x,y]))\n",
    "            return False\n",
    "        \n",
    "        old_position = self._position\n",
    "        self._position = [x,y]\n",
    "        print(\"King from {} to {}\".format(old_position, self._position))\n",
    "        return True\n",
    "        "
   ]
  },
  {
   "cell_type": "markdown",
   "metadata": {},
   "source": [
    "## Abstraction\n",
    "\n",
    "Abstraction is where nouns-as-classes shine. \n",
    "Let's say you were asked to write a chess game: how would you do it?\n",
    "Abstraction would say, \n",
    "    \"what is a game of chess composed of?\" - chess pieces and a board\n",
    "    \"what are chess pieces?\" - a specific role, pawn, king, queen, bishop, rook etc. that are either black or white\n",
    "    \"what defines a role?\" - its allowable movements and whether it can move through opposing units\"\n",
    "At each of these levels of questions, we are peeling back abstraction-- we know how chess is played, but in describing it in a series of questions, we can get insight into how we think of the component parts as class-objects.\n",
    "    \n",
    "At its heart, Object-oriented programming is fundamentally about abstraction."
   ]
  },
  {
   "cell_type": "code",
   "execution_count": null,
   "metadata": {
    "collapsed": true
   },
   "outputs": [],
   "source": [
    "import numpy \n",
    "\n",
    "class Chess():\n",
    "    def __init__(self, player1, player2):       \n",
    "        self.whitepieces = ChessSet(\"white\")\n",
    "        self.blackpieces = ChessSet(\"black\")\n",
    "        self.board = Board(self.blackpieces, self.whitepieces)\n",
    "        self.player1 = player1\n",
    "        self.player2 = player2\n",
    "        \n",
    "class Board():\n",
    "    def __init__(self, blackpieces, whitepieces):\n",
    "        self.__board = numpy.zeros(shape=(8,8))\n",
    "        self.blackpieces = blackpieces\n",
    "        self.whitepieces = whitepieces\n",
    "        \n",
    "class ChessSet():\n",
    "    chess_set = [\"pawn\", \"rook\", \"knight\", \"bishop\", \"king\", \"queen\"]\n",
    "    \n",
    "    def __init__(self, set_color):\n",
    "        for piece in chess_set:\n",
    "            print(\"making a {} {}\".format(set_color, piece))\n",
    "        \n",
    "        "
   ]
  },
  {
   "cell_type": "markdown",
   "metadata": {},
   "source": [
    "## Inheritance\n",
    "\n",
    "Class Inheritance is the concept that one class can be derived from another class. The classic example is usually done as Animal -> Dog, or in our case, ChessPiece -> ChessKing\n",
    "    Meaning, all Kings are ChessPieces and can do the things ChessPieces do, but not all ChessPieces are Kings\n",
    "    This goes hand-in-hand with polymorphism above in that a subclass (the one that inherits) can override an inherited class function. This is a pattern that allows us to go from a generic intention (a ChessPiece can move() as something it does) to a specific implementation (a ChessKing(ChessPiece) can check if a speficic move is legal!\n"
   ]
  },
  {
   "cell_type": "code",
   "execution_count": null,
   "metadata": {
    "collapsed": false
   },
   "outputs": [],
   "source": [
    "from typing import List\n",
    "\n",
    "class ChessPiece():\n",
    "    def __init__(self, initial_position: List[int], color: str):\n",
    "        self._color = color #once we initially set this, we don't want to touch it again!\n",
    "        self._position = initial_position #Position will be modified frequently, but we need to make sure it follows some rules \n",
    "        self.__legal_moves = self._define_legal_moves\n",
    "        \n",
    "    def _define_legal_moves(x, y):\n",
    "        raise Exception(\"No legal moves defined for {}\".format(self.__name__))\n",
    "        \n",
    "    def get_color(self):\n",
    "        return self._color\n",
    "        \n",
    "    def make_move(self, x, y):\n",
    "        try:\n",
    "            self._define_legal_moves(x, y)  \n",
    "        except e:\n",
    "            print(\"You cannot move a {} from {} to {}\".format(self.__name__, self._position, [x,y]))\n",
    "            return False\n",
    "        \n",
    "        old_position = self._position\n",
    "        self._position = [x,y]\n",
    "        print(\"{} from {} to {}\".format(self.__name__, old_position, self._position))\n",
    "        return True\n",
    "    \n",
    "class ChessKing(ChessPiece):\n",
    "    def __init__(self, initial_position: List[int], color: str):\n",
    "        ChessPiece.__init__(self, initial_position, color)\n",
    "    \n",
    "    def _define_legal_moves(x, y):\n",
    "        assert x >= 0 and y >= 0 #can't go off one side of the board\n",
    "        assert x < 8 and y < 8 #can't go off the other side of the board\n",
    "        \n",
    "        delta_x =  x - self.position[0]\n",
    "        assert delta_x == 1 or delta_x == 0 or delta_x == -1\n",
    "        \n",
    "        delta_y = y - self.position[1]\n",
    "        assert delta_y == 1 or delta_y == 0 or delta_y == -1\n",
    "        \n",
    "        return True\n",
    "    \n",
    "    '''\n",
    "    Notice that we do NOT need to redefine make_moves: since the only thing that was missing was ensuring the 'legality'\n",
    "    we can ensure that all things that inherit from ChessPiece() follow the same form for make_move.\n",
    "    '''\n"
   ]
  },
  {
   "cell_type": "markdown",
   "metadata": {},
   "source": [
    "## Polymorphism\n",
    "\n",
    "In python, polymorphism is represented by duck typing-- it allows us to write more generic functions that expect certain things (function signatures) to be true, and as long as they are, you can throw object into them. This goes hand-in-hand with inheritance above: anything which expects an object to .speak() will get the class-specific implementation of that, regardless of whether it’s a generic animal, a Dog(), a Cat(), or an AnythingElse(). They all have some implementation of .speak() and all work in the same function in any mix of the above!"
   ]
  },
  {
   "cell_type": "code",
   "execution_count": null,
   "metadata": {
    "collapsed": true
   },
   "outputs": [],
   "source": [
    "def player_moves_chesspiece(player: ChessPlayer, chesspiece: ChessPiece, x, y):\n",
    "    assert player.color == chesspiece.get_color()\n",
    "    \n",
    "    return chesspiece.make_move(x, y) #This will work for ANY specific chesspiece type that inherits from the more generic ChessPiece!\n",
    "\n",
    "\n"
   ]
  }
 ],
 "metadata": {
  "kernelspec": {
   "display_name": "Python 3",
   "language": "python",
   "name": "python3"
  },
  "language_info": {
   "codemirror_mode": {
    "name": "ipython",
    "version": 3
   },
   "file_extension": ".py",
   "mimetype": "text/x-python",
   "name": "python",
   "nbconvert_exporter": "python",
   "pygments_lexer": "ipython3",
   "version": "3.6.0"
  }
 },
 "nbformat": 4,
 "nbformat_minor": 0
}
